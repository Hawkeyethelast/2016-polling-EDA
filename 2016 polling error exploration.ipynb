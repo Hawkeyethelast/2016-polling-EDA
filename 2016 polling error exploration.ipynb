{
 "cells": [
  {
   "cell_type": "markdown",
   "metadata": {},
   "source": [
    "### imports"
   ]
  },
  {
   "cell_type": "code",
   "execution_count": 108,
   "metadata": {
    "ExecuteTime": {
     "end_time": "2020-11-01T05:01:47.116541Z",
     "start_time": "2020-11-01T05:01:45.414550Z"
    }
   },
   "outputs": [],
   "source": [
    "import pandas as pd\n",
    "from datetime import datetime, timedelta\n",
    "import copy\n",
    "import numpy\n",
    "import matplotlib.pyplot as plt\n",
    "import math\n",
    "from scipy import stats"
   ]
  },
  {
   "cell_type": "markdown",
   "metadata": {},
   "source": [
    "### Get the data and assign some constants"
   ]
  },
  {
   "cell_type": "code",
   "execution_count": 2,
   "metadata": {
    "ExecuteTime": {
     "end_time": "2020-10-31T17:53:35.866725Z",
     "start_time": "2020-10-31T17:53:35.761468Z"
    }
   },
   "outputs": [],
   "source": [
    "polls16 = pd.read_csv(\"president_general_polls_2016.csv\")"
   ]
  },
  {
   "cell_type": "code",
   "execution_count": 7,
   "metadata": {
    "ExecuteTime": {
     "end_time": "2020-10-31T17:59:06.048982Z",
     "start_time": "2020-10-31T17:59:06.033335Z"
    }
   },
   "outputs": [],
   "source": [
    "#final 2016 popular vote share percentage per wikipedia\n",
    "CLINTON_SHARE=48.2\n",
    "TRUMP_SHARE=46.1"
   ]
  },
  {
   "cell_type": "markdown",
   "metadata": {},
   "source": [
    "### Some Exploration and Cleaning"
   ]
  },
  {
   "cell_type": "code",
   "execution_count": 4,
   "metadata": {
    "ExecuteTime": {
     "end_time": "2020-10-31T17:55:23.917577Z",
     "start_time": "2020-10-31T17:55:23.877275Z"
    }
   },
   "outputs": [
    {
     "data": {
      "text/html": [
       "<div>\n",
       "<style scoped>\n",
       "    .dataframe tbody tr th:only-of-type {\n",
       "        vertical-align: middle;\n",
       "    }\n",
       "\n",
       "    .dataframe tbody tr th {\n",
       "        vertical-align: top;\n",
       "    }\n",
       "\n",
       "    .dataframe thead th {\n",
       "        text-align: right;\n",
       "    }\n",
       "</style>\n",
       "<table border=\"1\" class=\"dataframe\">\n",
       "  <thead>\n",
       "    <tr style=\"text-align: right;\">\n",
       "      <th></th>\n",
       "      <th>cycle</th>\n",
       "      <th>branch</th>\n",
       "      <th>type</th>\n",
       "      <th>matchup</th>\n",
       "      <th>forecastdate</th>\n",
       "      <th>state</th>\n",
       "      <th>startdate</th>\n",
       "      <th>enddate</th>\n",
       "      <th>pollster</th>\n",
       "      <th>grade</th>\n",
       "      <th>...</th>\n",
       "      <th>adjpoll_clinton</th>\n",
       "      <th>adjpoll_trump</th>\n",
       "      <th>adjpoll_johnson</th>\n",
       "      <th>adjpoll_mcmullin</th>\n",
       "      <th>multiversions</th>\n",
       "      <th>url</th>\n",
       "      <th>poll_id</th>\n",
       "      <th>question_id</th>\n",
       "      <th>createddate</th>\n",
       "      <th>timestamp</th>\n",
       "    </tr>\n",
       "  </thead>\n",
       "  <tbody>\n",
       "    <tr>\n",
       "      <th>0</th>\n",
       "      <td>2016</td>\n",
       "      <td>President</td>\n",
       "      <td>polls-plus</td>\n",
       "      <td>Clinton vs. Trump vs. Johnson</td>\n",
       "      <td>11/8/16</td>\n",
       "      <td>U.S.</td>\n",
       "      <td>11/3/2016</td>\n",
       "      <td>11/6/2016</td>\n",
       "      <td>ABC News/Washington Post</td>\n",
       "      <td>A+</td>\n",
       "      <td>...</td>\n",
       "      <td>45.20163</td>\n",
       "      <td>41.72430</td>\n",
       "      <td>4.626221</td>\n",
       "      <td>NaN</td>\n",
       "      <td>NaN</td>\n",
       "      <td>https://www.washingtonpost.com/news/the-fix/wp...</td>\n",
       "      <td>48630</td>\n",
       "      <td>76192</td>\n",
       "      <td>11/7/16</td>\n",
       "      <td>09:35:33  8 Nov 2016</td>\n",
       "    </tr>\n",
       "    <tr>\n",
       "      <th>1</th>\n",
       "      <td>2016</td>\n",
       "      <td>President</td>\n",
       "      <td>polls-plus</td>\n",
       "      <td>Clinton vs. Trump vs. Johnson</td>\n",
       "      <td>11/8/16</td>\n",
       "      <td>U.S.</td>\n",
       "      <td>11/1/2016</td>\n",
       "      <td>11/7/2016</td>\n",
       "      <td>Google Consumer Surveys</td>\n",
       "      <td>B</td>\n",
       "      <td>...</td>\n",
       "      <td>43.34557</td>\n",
       "      <td>41.21439</td>\n",
       "      <td>5.175792</td>\n",
       "      <td>NaN</td>\n",
       "      <td>NaN</td>\n",
       "      <td>https://datastudio.google.com/u/0/#/org//repor...</td>\n",
       "      <td>48847</td>\n",
       "      <td>76443</td>\n",
       "      <td>11/7/16</td>\n",
       "      <td>09:35:33  8 Nov 2016</td>\n",
       "    </tr>\n",
       "    <tr>\n",
       "      <th>2</th>\n",
       "      <td>2016</td>\n",
       "      <td>President</td>\n",
       "      <td>polls-plus</td>\n",
       "      <td>Clinton vs. Trump vs. Johnson</td>\n",
       "      <td>11/8/16</td>\n",
       "      <td>U.S.</td>\n",
       "      <td>11/2/2016</td>\n",
       "      <td>11/6/2016</td>\n",
       "      <td>Ipsos</td>\n",
       "      <td>A-</td>\n",
       "      <td>...</td>\n",
       "      <td>42.02638</td>\n",
       "      <td>38.81620</td>\n",
       "      <td>6.844734</td>\n",
       "      <td>NaN</td>\n",
       "      <td>NaN</td>\n",
       "      <td>http://projects.fivethirtyeight.com/polls/2016...</td>\n",
       "      <td>48922</td>\n",
       "      <td>76636</td>\n",
       "      <td>11/8/16</td>\n",
       "      <td>09:35:33  8 Nov 2016</td>\n",
       "    </tr>\n",
       "    <tr>\n",
       "      <th>3</th>\n",
       "      <td>2016</td>\n",
       "      <td>President</td>\n",
       "      <td>polls-plus</td>\n",
       "      <td>Clinton vs. Trump vs. Johnson</td>\n",
       "      <td>11/8/16</td>\n",
       "      <td>U.S.</td>\n",
       "      <td>11/4/2016</td>\n",
       "      <td>11/7/2016</td>\n",
       "      <td>YouGov</td>\n",
       "      <td>B</td>\n",
       "      <td>...</td>\n",
       "      <td>45.65676</td>\n",
       "      <td>40.92004</td>\n",
       "      <td>6.069454</td>\n",
       "      <td>NaN</td>\n",
       "      <td>NaN</td>\n",
       "      <td>https://d25d2506sfb94s.cloudfront.net/cumulus_...</td>\n",
       "      <td>48687</td>\n",
       "      <td>76262</td>\n",
       "      <td>11/7/16</td>\n",
       "      <td>09:35:33  8 Nov 2016</td>\n",
       "    </tr>\n",
       "    <tr>\n",
       "      <th>4</th>\n",
       "      <td>2016</td>\n",
       "      <td>President</td>\n",
       "      <td>polls-plus</td>\n",
       "      <td>Clinton vs. Trump vs. Johnson</td>\n",
       "      <td>11/8/16</td>\n",
       "      <td>U.S.</td>\n",
       "      <td>11/3/2016</td>\n",
       "      <td>11/6/2016</td>\n",
       "      <td>Gravis Marketing</td>\n",
       "      <td>B-</td>\n",
       "      <td>...</td>\n",
       "      <td>46.84089</td>\n",
       "      <td>42.33184</td>\n",
       "      <td>3.726098</td>\n",
       "      <td>NaN</td>\n",
       "      <td>NaN</td>\n",
       "      <td>http://www.gravispolls.com/2016/11/final-natio...</td>\n",
       "      <td>48848</td>\n",
       "      <td>76444</td>\n",
       "      <td>11/7/16</td>\n",
       "      <td>09:35:33  8 Nov 2016</td>\n",
       "    </tr>\n",
       "  </tbody>\n",
       "</table>\n",
       "<p>5 rows × 27 columns</p>\n",
       "</div>"
      ],
      "text/plain": [
       "   cycle     branch        type                        matchup forecastdate  \\\n",
       "0   2016  President  polls-plus  Clinton vs. Trump vs. Johnson      11/8/16   \n",
       "1   2016  President  polls-plus  Clinton vs. Trump vs. Johnson      11/8/16   \n",
       "2   2016  President  polls-plus  Clinton vs. Trump vs. Johnson      11/8/16   \n",
       "3   2016  President  polls-plus  Clinton vs. Trump vs. Johnson      11/8/16   \n",
       "4   2016  President  polls-plus  Clinton vs. Trump vs. Johnson      11/8/16   \n",
       "\n",
       "  state  startdate    enddate                  pollster grade  ...  \\\n",
       "0  U.S.  11/3/2016  11/6/2016  ABC News/Washington Post    A+  ...   \n",
       "1  U.S.  11/1/2016  11/7/2016   Google Consumer Surveys     B  ...   \n",
       "2  U.S.  11/2/2016  11/6/2016                     Ipsos    A-  ...   \n",
       "3  U.S.  11/4/2016  11/7/2016                    YouGov     B  ...   \n",
       "4  U.S.  11/3/2016  11/6/2016          Gravis Marketing    B-  ...   \n",
       "\n",
       "   adjpoll_clinton adjpoll_trump  adjpoll_johnson  adjpoll_mcmullin  \\\n",
       "0         45.20163      41.72430         4.626221               NaN   \n",
       "1         43.34557      41.21439         5.175792               NaN   \n",
       "2         42.02638      38.81620         6.844734               NaN   \n",
       "3         45.65676      40.92004         6.069454               NaN   \n",
       "4         46.84089      42.33184         3.726098               NaN   \n",
       "\n",
       "   multiversions                                                url  poll_id  \\\n",
       "0            NaN  https://www.washingtonpost.com/news/the-fix/wp...    48630   \n",
       "1            NaN  https://datastudio.google.com/u/0/#/org//repor...    48847   \n",
       "2            NaN  http://projects.fivethirtyeight.com/polls/2016...    48922   \n",
       "3            NaN  https://d25d2506sfb94s.cloudfront.net/cumulus_...    48687   \n",
       "4            NaN  http://www.gravispolls.com/2016/11/final-natio...    48848   \n",
       "\n",
       "   question_id  createddate             timestamp  \n",
       "0        76192      11/7/16  09:35:33  8 Nov 2016  \n",
       "1        76443      11/7/16  09:35:33  8 Nov 2016  \n",
       "2        76636      11/8/16  09:35:33  8 Nov 2016  \n",
       "3        76262      11/7/16  09:35:33  8 Nov 2016  \n",
       "4        76444      11/7/16  09:35:33  8 Nov 2016  \n",
       "\n",
       "[5 rows x 27 columns]"
      ]
     },
     "execution_count": 4,
     "metadata": {},
     "output_type": "execute_result"
    }
   ],
   "source": [
    "polls16.head()"
   ]
  },
  {
   "cell_type": "markdown",
   "metadata": {},
   "source": [
    "Make the dates datetime objects so we can do math with them"
   ]
  },
  {
   "cell_type": "code",
   "execution_count": 15,
   "metadata": {
    "ExecuteTime": {
     "end_time": "2020-10-31T18:04:54.654823Z",
     "start_time": "2020-10-31T18:04:54.579026Z"
    }
   },
   "outputs": [],
   "source": [
    "polls16[\"forecastdate\"] = pd.to_datetime(polls16[\"forecastdate\"])\n",
    "polls16[\"startdate\"] = pd.to_datetime(polls16[\"startdate\"])\n",
    "polls16[\"enddate\"] = pd.to_datetime(polls16[\"enddate\"])\n",
    "polls16[\"createddate\"] = pd.to_datetime(polls16[\"createddate\"])\n",
    "polls16[\"timestamp\"] = pd.to_datetime(polls16[\"timestamp\"])"
   ]
  },
  {
   "cell_type": "markdown",
   "metadata": {},
   "source": [
    "check that all polls are of the presidential race and see if we're mixing state and national polls"
   ]
  },
  {
   "cell_type": "code",
   "execution_count": 24,
   "metadata": {
    "ExecuteTime": {
     "end_time": "2020-10-31T18:11:19.899851Z",
     "start_time": "2020-10-31T18:11:19.890878Z"
    }
   },
   "outputs": [
    {
     "name": "stdout",
     "output_type": "stream",
     "text": [
      "branch check: ['President']\n",
      "state check: ['U.S.' 'New Mexico' 'Virginia' 'Iowa' 'Wisconsin' 'North Carolina'\n",
      " 'Georgia' 'Florida' 'Oregon' 'Ohio' 'South Carolina' 'New York'\n",
      " 'Michigan' 'Pennsylvania' 'Missouri' 'New Hampshire' 'Arizona' 'Nevada'\n",
      " 'Colorado' 'California' 'Washington' 'Texas' 'Utah' 'Illinois' 'Indiana'\n",
      " 'Tennessee' 'Connecticut' 'Massachusetts' 'New Jersey' 'Kansas'\n",
      " 'Kentucky' 'Minnesota' 'Oklahoma' 'Maryland' 'Alabama' 'Nebraska'\n",
      " 'Louisiana' 'Maine' 'Arkansas' 'Alaska' 'Vermont' 'Idaho' 'Mississippi'\n",
      " 'West Virginia' 'South Dakota' 'Montana' 'Hawaii' 'Maine CD-1'\n",
      " 'Maine CD-2' 'Rhode Island' 'Nebraska CD-3' 'Nebraska CD-1' 'Delaware'\n",
      " 'North Dakota' 'District of Columbia' 'Nebraska CD-2' 'Wyoming']\n"
     ]
    }
   ],
   "source": [
    "print(\"branch check: \" + str(polls16[\"branch\"].unique()))\n",
    "print(\"state check: \" + str(polls16[\"state\"].unique()))"
   ]
  },
  {
   "cell_type": "markdown",
   "metadata": {},
   "source": [
    "Right now I'm too lazy to get vote share totals for individual states but that can be done as a follow on analysis, we'll limit to just national polls for this first look"
   ]
  },
  {
   "cell_type": "code",
   "execution_count": 45,
   "metadata": {
    "ExecuteTime": {
     "end_time": "2020-10-31T18:20:31.261845Z",
     "start_time": "2020-10-31T18:20:31.253842Z"
    }
   },
   "outputs": [],
   "source": [
    "polls16_nat = polls16[polls16[\"state\"] == \"U.S.\"]"
   ]
  },
  {
   "cell_type": "code",
   "execution_count": 47,
   "metadata": {
    "ExecuteTime": {
     "end_time": "2020-10-31T18:20:39.275323Z",
     "start_time": "2020-10-31T18:20:39.270336Z"
    }
   },
   "outputs": [
    {
     "data": {
      "text/plain": [
       "3318"
      ]
     },
     "execution_count": 47,
     "metadata": {},
     "output_type": "execute_result"
    }
   ],
   "source": [
    "len(polls16_nat)"
   ]
  },
  {
   "cell_type": "markdown",
   "metadata": {},
   "source": [
    "filter down to just polls in the week leading up to the election"
   ]
  },
  {
   "cell_type": "code",
   "execution_count": 48,
   "metadata": {
    "ExecuteTime": {
     "end_time": "2020-10-31T18:20:44.477113Z",
     "start_time": "2020-10-31T18:20:44.471131Z"
    }
   },
   "outputs": [],
   "source": [
    "one_week = polls16_nat[polls16_nat[\"forecastdate\"] - polls16_nat[\"enddate\"] <= timedelta(days=7)]"
   ]
  },
  {
   "cell_type": "code",
   "execution_count": 50,
   "metadata": {
    "ExecuteTime": {
     "end_time": "2020-10-31T18:20:52.191656Z",
     "start_time": "2020-10-31T18:20:52.186668Z"
    }
   },
   "outputs": [
    {
     "data": {
      "text/plain": [
       "186"
      ]
     },
     "execution_count": 50,
     "metadata": {},
     "output_type": "execute_result"
    }
   ],
   "source": [
    "len(one_week)"
   ]
  },
  {
   "cell_type": "markdown",
   "metadata": {
    "ExecuteTime": {
     "end_time": "2020-10-31T18:07:32.008587Z",
     "start_time": "2020-10-31T18:07:31.941665Z"
    }
   },
   "source": [
    "now let's make two different sets of data to examine, raw polling numbers and 538s adjusted polling numbers"
   ]
  },
  {
   "cell_type": "code",
   "execution_count": 51,
   "metadata": {
    "ExecuteTime": {
     "end_time": "2020-10-31T18:20:56.506564Z",
     "start_time": "2020-10-31T18:20:56.501578Z"
    }
   },
   "outputs": [
    {
     "data": {
      "text/plain": [
       "Index(['cycle', 'branch', 'type', 'matchup', 'forecastdate', 'state',\n",
       "       'startdate', 'enddate', 'pollster', 'grade', 'samplesize', 'population',\n",
       "       'poll_wt', 'rawpoll_clinton', 'rawpoll_trump', 'rawpoll_johnson',\n",
       "       'rawpoll_mcmullin', 'adjpoll_clinton', 'adjpoll_trump',\n",
       "       'adjpoll_johnson', 'adjpoll_mcmullin', 'multiversions', 'url',\n",
       "       'poll_id', 'question_id', 'createddate', 'timestamp'],\n",
       "      dtype='object')"
      ]
     },
     "execution_count": 51,
     "metadata": {},
     "output_type": "execute_result"
    }
   ],
   "source": [
    "one_week.columns"
   ]
  },
  {
   "cell_type": "code",
   "execution_count": 52,
   "metadata": {
    "ExecuteTime": {
     "end_time": "2020-10-31T18:20:56.753230Z",
     "start_time": "2020-10-31T18:20:56.748244Z"
    }
   },
   "outputs": [],
   "source": [
    "ALL_POLL_COLS = [\"state\", \"grade\", \"samplesize\", \"pollster\"]\n",
    "RAW_POLL_COLS = ALL_POLL_COLS + [\"rawpoll_clinton\", \"rawpoll_trump\"]\n",
    "ADJ_POLL_COLS = ALL_POLL_COLS + [\"adjpoll_clinton\", \"adjpoll_trump\"]"
   ]
  },
  {
   "cell_type": "code",
   "execution_count": 60,
   "metadata": {
    "ExecuteTime": {
     "end_time": "2020-10-31T18:24:42.244019Z",
     "start_time": "2020-10-31T18:24:42.236065Z"
    }
   },
   "outputs": [],
   "source": [
    "rawdf = copy.deepcopy(one_week[RAW_POLL_COLS])\n",
    "adjdf = copy.deepcopy(one_week[ADJ_POLL_COLS])"
   ]
  },
  {
   "cell_type": "code",
   "execution_count": 61,
   "metadata": {
    "ExecuteTime": {
     "end_time": "2020-10-31T18:24:44.813478Z",
     "start_time": "2020-10-31T18:24:44.809490Z"
    }
   },
   "outputs": [
    {
     "name": "stdout",
     "output_type": "stream",
     "text": [
      "186\n",
      "186\n"
     ]
    }
   ],
   "source": [
    "print(len(rawdf))\n",
    "print(len(adjdf))"
   ]
  },
  {
   "cell_type": "markdown",
   "metadata": {},
   "source": [
    "### Compute Error(s)"
   ]
  },
  {
   "cell_type": "markdown",
   "metadata": {},
   "source": [
    "now we add a column of computed different from final vote share for both raw and adjusted national poll data sets"
   ]
  },
  {
   "cell_type": "code",
   "execution_count": 62,
   "metadata": {
    "ExecuteTime": {
     "end_time": "2020-10-31T18:24:46.083713Z",
     "start_time": "2020-10-31T18:24:46.073736Z"
    }
   },
   "outputs": [],
   "source": [
    "rawdf[\"diff_clinton\"] = rawdf[\"rawpoll_clinton\"] - CLINTON_SHARE\n",
    "rawdf[\"diff_trump\"] = rawdf[\"rawpoll_trump\"] - TRUMP_SHARE\n",
    "adjdf[\"diff_clinton\"] = adjdf[\"adjpoll_clinton\"] - CLINTON_SHARE\n",
    "adjdf[\"diff_trump\"] = adjdf[\"adjpoll_trump\"] - TRUMP_SHARE"
   ]
  },
  {
   "cell_type": "markdown",
   "metadata": {
    "ExecuteTime": {
     "end_time": "2020-10-31T18:24:50.199891Z",
     "start_time": "2020-10-31T18:24:50.171968Z"
    }
   },
   "source": [
    "Actually while we're here lets see if each pollster missed both candidates by the same amount?"
   ]
  },
  {
   "cell_type": "code",
   "execution_count": 99,
   "metadata": {
    "ExecuteTime": {
     "end_time": "2020-11-01T04:52:42.056971Z",
     "start_time": "2020-11-01T04:52:42.050987Z"
    }
   },
   "outputs": [],
   "source": [
    "rawdf[\"cumulative_diff\"] = rawdf[\"diff_clinton\"] - rawdf[\"diff_trump\"]\n",
    "adjdf[\"cumulative_diff\"] = adjdf[\"diff_clinton\"] - rawdf[\"diff_trump\"]"
   ]
  },
  {
   "cell_type": "code",
   "execution_count": 100,
   "metadata": {
    "ExecuteTime": {
     "end_time": "2020-11-01T04:52:48.395024Z",
     "start_time": "2020-11-01T04:52:48.378070Z"
    }
   },
   "outputs": [
    {
     "data": {
      "text/html": [
       "<div>\n",
       "<style scoped>\n",
       "    .dataframe tbody tr th:only-of-type {\n",
       "        vertical-align: middle;\n",
       "    }\n",
       "\n",
       "    .dataframe tbody tr th {\n",
       "        vertical-align: top;\n",
       "    }\n",
       "\n",
       "    .dataframe thead th {\n",
       "        text-align: right;\n",
       "    }\n",
       "</style>\n",
       "<table border=\"1\" class=\"dataframe\">\n",
       "  <thead>\n",
       "    <tr style=\"text-align: right;\">\n",
       "      <th></th>\n",
       "      <th>state</th>\n",
       "      <th>grade</th>\n",
       "      <th>samplesize</th>\n",
       "      <th>pollster</th>\n",
       "      <th>rawpoll_clinton</th>\n",
       "      <th>rawpoll_trump</th>\n",
       "      <th>diff_clinton</th>\n",
       "      <th>diff_trump</th>\n",
       "      <th>cumulative_diff</th>\n",
       "    </tr>\n",
       "  </thead>\n",
       "  <tbody>\n",
       "    <tr>\n",
       "      <th>9328</th>\n",
       "      <td>U.S.</td>\n",
       "      <td>NaN</td>\n",
       "      <td>2526.0</td>\n",
       "      <td>The Times-Picayune/Lucid</td>\n",
       "      <td>45.00</td>\n",
       "      <td>40.00</td>\n",
       "      <td>-3.20</td>\n",
       "      <td>-6.10</td>\n",
       "      <td>2.90</td>\n",
       "    </tr>\n",
       "    <tr>\n",
       "      <th>9025</th>\n",
       "      <td>U.S.</td>\n",
       "      <td>A+</td>\n",
       "      <td>1151.0</td>\n",
       "      <td>ABC News/Washington Post</td>\n",
       "      <td>47.00</td>\n",
       "      <td>44.00</td>\n",
       "      <td>-1.20</td>\n",
       "      <td>-2.10</td>\n",
       "      <td>0.90</td>\n",
       "    </tr>\n",
       "    <tr>\n",
       "      <th>1092</th>\n",
       "      <td>U.S.</td>\n",
       "      <td>NaN</td>\n",
       "      <td>2988.0</td>\n",
       "      <td>USC Dornsife/LA Times</td>\n",
       "      <td>42.63</td>\n",
       "      <td>48.16</td>\n",
       "      <td>-5.57</td>\n",
       "      <td>2.06</td>\n",
       "      <td>-7.63</td>\n",
       "    </tr>\n",
       "    <tr>\n",
       "      <th>8423</th>\n",
       "      <td>U.S.</td>\n",
       "      <td>A-</td>\n",
       "      <td>1282.0</td>\n",
       "      <td>NBC News/Wall Street Journal</td>\n",
       "      <td>44.00</td>\n",
       "      <td>40.00</td>\n",
       "      <td>-4.20</td>\n",
       "      <td>-6.10</td>\n",
       "      <td>1.90</td>\n",
       "    </tr>\n",
       "    <tr>\n",
       "      <th>5204</th>\n",
       "      <td>U.S.</td>\n",
       "      <td>C+</td>\n",
       "      <td>1479.0</td>\n",
       "      <td>CVOTER International</td>\n",
       "      <td>49.06</td>\n",
       "      <td>47.82</td>\n",
       "      <td>0.86</td>\n",
       "      <td>1.72</td>\n",
       "      <td>-0.86</td>\n",
       "    </tr>\n",
       "    <tr>\n",
       "      <th>4957</th>\n",
       "      <td>U.S.</td>\n",
       "      <td>C+</td>\n",
       "      <td>1500.0</td>\n",
       "      <td>Rasmussen Reports/Pulse Opinion Research</td>\n",
       "      <td>44.00</td>\n",
       "      <td>44.00</td>\n",
       "      <td>-4.20</td>\n",
       "      <td>-2.10</td>\n",
       "      <td>-2.10</td>\n",
       "    </tr>\n",
       "    <tr>\n",
       "      <th>5027</th>\n",
       "      <td>U.S.</td>\n",
       "      <td>A-</td>\n",
       "      <td>867.0</td>\n",
       "      <td>IBD/TIPP</td>\n",
       "      <td>44.00</td>\n",
       "      <td>44.10</td>\n",
       "      <td>-4.20</td>\n",
       "      <td>-2.00</td>\n",
       "      <td>-2.20</td>\n",
       "    </tr>\n",
       "  </tbody>\n",
       "</table>\n",
       "</div>"
      ],
      "text/plain": [
       "     state grade  samplesize                                  pollster  \\\n",
       "9328  U.S.   NaN      2526.0                  The Times-Picayune/Lucid   \n",
       "9025  U.S.    A+      1151.0                  ABC News/Washington Post   \n",
       "1092  U.S.   NaN      2988.0                     USC Dornsife/LA Times   \n",
       "8423  U.S.    A-      1282.0              NBC News/Wall Street Journal   \n",
       "5204  U.S.    C+      1479.0                      CVOTER International   \n",
       "4957  U.S.    C+      1500.0  Rasmussen Reports/Pulse Opinion Research   \n",
       "5027  U.S.    A-       867.0                                  IBD/TIPP   \n",
       "\n",
       "      rawpoll_clinton  rawpoll_trump  diff_clinton  diff_trump  \\\n",
       "9328            45.00          40.00         -3.20       -6.10   \n",
       "9025            47.00          44.00         -1.20       -2.10   \n",
       "1092            42.63          48.16         -5.57        2.06   \n",
       "8423            44.00          40.00         -4.20       -6.10   \n",
       "5204            49.06          47.82          0.86        1.72   \n",
       "4957            44.00          44.00         -4.20       -2.10   \n",
       "5027            44.00          44.10         -4.20       -2.00   \n",
       "\n",
       "      cumulative_diff  \n",
       "9328             2.90  \n",
       "9025             0.90  \n",
       "1092            -7.63  \n",
       "8423             1.90  \n",
       "5204            -0.86  \n",
       "4957            -2.10  \n",
       "5027            -2.20  "
      ]
     },
     "execution_count": 100,
     "metadata": {},
     "output_type": "execute_result"
    }
   ],
   "source": [
    "rawdf.sample(7)"
   ]
  },
  {
   "cell_type": "markdown",
   "metadata": {},
   "source": [
    "### Some histograms on the polling missess"
   ]
  },
  {
   "cell_type": "code",
   "execution_count": 101,
   "metadata": {
    "ExecuteTime": {
     "end_time": "2020-11-01T04:53:02.126222Z",
     "start_time": "2020-11-01T04:53:01.889833Z"
    }
   },
   "outputs": [
    {
     "data": {
      "text/plain": [
       "<AxesSubplot:>"
      ]
     },
     "execution_count": 101,
     "metadata": {},
     "output_type": "execute_result"
    },
    {
     "data": {
      "image/png": "[encoded data removed]",
      "text/plain": [
       "<Figure size 432x288 with 1 Axes>"
      ]
     },
     "metadata": {
      "needs_background": "light"
     },
     "output_type": "display_data"
    }
   ],
   "source": [
    "rawdf[\"diff_clinton\"].hist(bins=20)"
   ]
  },
  {
   "cell_type": "code",
   "execution_count": 102,
   "metadata": {
    "ExecuteTime": {
     "end_time": "2020-11-01T04:53:02.620877Z",
     "start_time": "2020-11-01T04:53:02.383511Z"
    }
   },
   "outputs": [
    {
     "data": {
      "text/plain": [
       "<AxesSubplot:>"
      ]
     },
     "execution_count": 102,
     "metadata": {},
     "output_type": "execute_result"
    },
    {
     "data": {
      "image/png": "[encoded data removed]",
      "text/plain": [
       "<Figure size 432x288 with 1 Axes>"
      ]
     },
     "metadata": {
      "needs_background": "light"
     },
     "output_type": "display_data"
    }
   ],
   "source": [
    "rawdf[\"diff_trump\"].hist(bins=20)"
   ]
  },
  {
   "cell_type": "code",
   "execution_count": 103,
   "metadata": {
    "ExecuteTime": {
     "end_time": "2020-11-01T04:53:03.285124Z",
     "start_time": "2020-11-01T04:53:03.049730Z"
    }
   },
   "outputs": [
    {
     "data": {
      "text/plain": [
       "<AxesSubplot:>"
      ]
     },
     "execution_count": 103,
     "metadata": {},
     "output_type": "execute_result"
    },
    {
     "data": {
      "image/png": "[encoded data removed]",
      "text/plain": [
       "<Figure size 432x288 with 1 Axes>"
      ]
     },
     "metadata": {
      "needs_background": "light"
     },
     "output_type": "display_data"
    }
   ],
   "source": [
    "adjdf[\"diff_clinton\"].hist(bins=20)"
   ]
  },
  {
   "cell_type": "code",
   "execution_count": 104,
   "metadata": {
    "ExecuteTime": {
     "end_time": "2020-11-01T04:53:03.778814Z",
     "start_time": "2020-11-01T04:53:03.547398Z"
    }
   },
   "outputs": [
    {
     "data": {
      "text/plain": [
       "<AxesSubplot:>"
      ]
     },
     "execution_count": 104,
     "metadata": {},
     "output_type": "execute_result"
    },
    {
     "data": {
      "image/png": "[encoded data removed]",
      "text/plain": [
       "<Figure size 432x288 with 1 Axes>"
      ]
     },
     "metadata": {
      "needs_background": "light"
     },
     "output_type": "display_data"
    }
   ],
   "source": [
    "adjdf[\"diff_trump\"].hist(bins=20)"
   ]
  },
  {
   "cell_type": "markdown",
   "metadata": {},
   "source": [
    "First impressions are:\n",
    "    - 1) everything missed low for the most part. I don't know what to say about this but maybe over representing Johnson? maybe not wanting to predict undecideds? :shrug emoji:\n",
    "    - 2) just based on the eye test it looks like the predicted voteshares for Trump did tend to be lower than his final vote share by a bigger magnitude than the predicted voteshares for Clinton were (though both were lower)\n",
    "\n",
    "\n",
    "Point two would seem to jive with the hindsight knowledge that undecided voters broke heavily for Trump in the final vote (https://www.vox.com/policy-and-politics/2016/12/21/14025198/trump-undecided-final-weeks-survey) If polls were consistently low in predicting each candiates final vote share and assumed undecideds would break evenly when the actually broke more for Trump, this would explain why the polls on average seem to mis lower on trump than clinton"
   ]
  },
  {
   "cell_type": "markdown",
   "metadata": {},
   "source": [
    "### Cumulative differences (did polsters systemically favor one candidate?)"
   ]
  },
  {
   "cell_type": "markdown",
   "metadata": {},
   "source": [
    "So, this started as an investigation into if the polling community as a whole has a systemic bias (or at least, that's how it started in my head). My proposed methodology for testing this is to create a \"metric\" to determine if polsters are systemically biased towards one candidate or another. (Technically this started from a discussion about if pollsters have systemic problems doing turnout modeling and I realize I've gone pretty far a field from that, but! if pollsters as a whole are systemically biased towards one cadidate or another that provides some evidence that they may be systemically biased (as a field) in other ways (like turnout models)\n",
    "<p>\n",
    "On to the metric. If the polling community as a whole is systemically biased towards one candidate (and we'd hypothesize a bias towards clinton based on, you know, the most overhyped media narrative surrounding the election) then we would expect that if we subtract the actual voteshare from the predicted voteshare we'd expect a bigger difference for trump than for clinton. If this is true, then we create a metric for each poll of it's bias by subtracting the polling miss for trump by the polling miss for clinton. When the metric is 0, the poll missed both candidates vote shares by the same amount, a positive number indicates the poll missed trump worse than clinton, and a negative number indicates the poll missed clinton worse than trump.\n",
    "    \n",
    "I'm making an assumption that this metric will be approximately normally distributed, so let's setup our null hypothesis that the distribution of these \"cumulative differences\" has a mean of 0 and the alternate hypothesis is that it's not. (1 sample t-test)"
   ]
  },
  {
   "cell_type": "markdown",
   "metadata": {},
   "source": [
    "but before we get all statistical, let's just try using a mark-1 eyeball"
   ]
  },
  {
   "cell_type": "code",
   "execution_count": 105,
   "metadata": {
    "ExecuteTime": {
     "end_time": "2020-11-01T04:54:27.144739Z",
     "start_time": "2020-11-01T04:54:26.907373Z"
    }
   },
   "outputs": [
    {
     "data": {
      "text/plain": [
       "<matplotlib.lines.Line2D at 0x17de6671580>"
      ]
     },
     "execution_count": 105,
     "metadata": {},
     "output_type": "execute_result"
    },
    {
     "data": {
      "image/png": "[encoded data removed]",
      "text/plain": [
       "<Figure size 432x288 with 1 Axes>"
      ]
     },
     "metadata": {
      "needs_background": "light"
     },
     "output_type": "display_data"
    }
   ],
   "source": [
    "raw_plot = rawdf[\"cumulative_diff\"].hist(bins=20)\n",
    "raw_plot.axvline(rawdf[\"cumulative_diff\"].mean(), color=\"red\")"
   ]
  },
  {
   "cell_type": "code",
   "execution_count": 106,
   "metadata": {
    "ExecuteTime": {
     "end_time": "2020-11-01T04:54:28.340539Z",
     "start_time": "2020-11-01T04:54:28.114147Z"
    }
   },
   "outputs": [
    {
     "data": {
      "text/plain": [
       "<matplotlib.lines.Line2D at 0x17de60adeb0>"
      ]
     },
     "execution_count": 106,
     "metadata": {},
     "output_type": "execute_result"
    },
    {
     "data": {
      "image/png": "[encoded data removed]",
      "text/plain": [
       "<Figure size 432x288 with 1 Axes>"
      ]
     },
     "metadata": {
      "needs_background": "light"
     },
     "output_type": "display_data"
    }
   ],
   "source": [
    "adj_plot = adjdf[\"cumulative_diff\"].hist(bins=20)\n",
    "adj_plot.axvline(adjdf[\"cumulative_diff\"].mean(), color=\"red\")"
   ]
  },
  {
   "cell_type": "markdown",
   "metadata": {},
   "source": [
    "well those both look pretty centered around 0 (though I'll admit that my assertions of normality aren't looking perfect) lets try the stats"
   ]
  },
  {
   "cell_type": "code",
   "execution_count": 109,
   "metadata": {
    "ExecuteTime": {
     "end_time": "2020-11-01T05:07:08.669495Z",
     "start_time": "2020-11-01T05:07:08.659525Z"
    }
   },
   "outputs": [],
   "source": [
    "raw_tstat, raw_pvalue = stats.ttest_1samp(rawdf[\"cumulative_diff\"], 0)\n",
    "adj_tstat, adj_pvalue = stats.ttest_1samp(adjdf[\"cumulative_diff\"], 0)"
   ]
  },
  {
   "cell_type": "markdown",
   "metadata": {},
   "source": [
    "Build a table so we can look at the results easier :P"
   ]
  },
  {
   "cell_type": "code",
   "execution_count": 121,
   "metadata": {
    "ExecuteTime": {
     "end_time": "2020-11-01T05:17:19.685941Z",
     "start_time": "2020-11-01T05:17:19.680954Z"
    }
   },
   "outputs": [],
   "source": [
    "metric = {\n",
    "    \"Raw Polls\": {\n",
    "        \"Mean\": rawdf[\"cumulative_diff\"].mean(),\n",
    "        \"T Statistic\": raw_tstat,\n",
    "        \"P-value\": raw_pvalue\n",
    "    },\n",
    "    \"Adjusted Polls\": {\n",
    "        \"Mean\": adjdf[\"cumulative_diff\"].mean(),\n",
    "        \"T Statistic\": adj_tstat,\n",
    "        \"P-value\": adj_pvalue\n",
    "    }\n",
    "}"
   ]
  },
  {
   "cell_type": "code",
   "execution_count": 122,
   "metadata": {
    "ExecuteTime": {
     "end_time": "2020-11-01T05:17:20.651361Z",
     "start_time": "2020-11-01T05:17:20.641389Z"
    }
   },
   "outputs": [
    {
     "data": {
      "text/html": [
       "<div>\n",
       "<style scoped>\n",
       "    .dataframe tbody tr th:only-of-type {\n",
       "        vertical-align: middle;\n",
       "    }\n",
       "\n",
       "    .dataframe tbody tr th {\n",
       "        vertical-align: top;\n",
       "    }\n",
       "\n",
       "    .dataframe thead th {\n",
       "        text-align: right;\n",
       "    }\n",
       "</style>\n",
       "<table border=\"1\" class=\"dataframe\">\n",
       "  <thead>\n",
       "    <tr style=\"text-align: right;\">\n",
       "      <th></th>\n",
       "      <th>Mean</th>\n",
       "      <th>T Statistic</th>\n",
       "      <th>P-value</th>\n",
       "    </tr>\n",
       "  </thead>\n",
       "  <tbody>\n",
       "    <tr>\n",
       "      <th>Raw Polls</th>\n",
       "      <td>-0.022742</td>\n",
       "      <td>-0.091856</td>\n",
       "      <td>0.926912</td>\n",
       "    </tr>\n",
       "    <tr>\n",
       "      <th>Adjusted Polls</th>\n",
       "      <td>0.238506</td>\n",
       "      <td>1.071527</td>\n",
       "      <td>0.285329</td>\n",
       "    </tr>\n",
       "  </tbody>\n",
       "</table>\n",
       "</div>"
      ],
      "text/plain": [
       "                    Mean  T Statistic   P-value\n",
       "Raw Polls      -0.022742    -0.091856  0.926912\n",
       "Adjusted Polls  0.238506     1.071527  0.285329"
      ]
     },
     "execution_count": 122,
     "metadata": {},
     "output_type": "execute_result"
    }
   ],
   "source": [
    "pd.DataFrame(metric).transpose()"
   ]
  },
  {
   "cell_type": "markdown",
   "metadata": {},
   "source": [
    "so, those p-values don't look great for rejecting the null hypothesis. This doesn't prove it conclusively but it does tell us that in the aggregate the polls published in the week leading up to the election at least weren't systemically biased towards one candidate or the other."
   ]
  },
  {
   "cell_type": "code",
   "execution_count": null,
   "metadata": {},
   "outputs": [],
   "source": []
  }
 ],
 "metadata": {
  "kernelspec": {
   "display_name": "Python 3",
   "language": "python",
   "name": "python3"
  },
  "language_info": {
   "codemirror_mode": {
    "name": "ipython",
    "version": 3
   },
   "file_extension": ".py",
   "mimetype": "text/x-python",
   "name": "python",
   "nbconvert_exporter": "python",
   "pygments_lexer": "ipython3",
   "version": "3.8.2"
  },
  "toc": {
   "base_numbering": 1,
   "nav_menu": {},
   "number_sections": true,
   "sideBar": true,
   "skip_h1_title": false,
   "title_cell": "Table of Contents",
   "title_sidebar": "Contents",
   "toc_cell": false,
   "toc_position": {
    "height": "calc(100% - 180px)",
    "left": "10px",
    "top": "150px",
    "width": "171.2px"
   },
   "toc_section_display": true,
   "toc_window_display": true
  },
  "varInspector": {
   "cols": {
    "lenName": 16,
    "lenType": 16,
    "lenVar": 40
   },
   "kernels_config": {
    "python": {
     "delete_cmd_postfix": "",
     "delete_cmd_prefix": "del ",
     "library": "var_list.py",
     "varRefreshCmd": "print(var_dic_list())"
    },
    "r": {
     "delete_cmd_postfix": ") ",
     "delete_cmd_prefix": "rm(",
     "library": "var_list.r",
     "varRefreshCmd": "cat(var_dic_list()) "
    }
   },
   "types_to_exclude": [
    "module",
    "function",
    "builtin_function_or_method",
    "instance",
    "_Feature"
   ],
   "window_display": false
  }
 },
 "nbformat": 4,
 "nbformat_minor": 4
}
